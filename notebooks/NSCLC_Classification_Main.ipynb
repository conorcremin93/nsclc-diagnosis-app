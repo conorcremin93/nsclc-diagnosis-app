{
 "cells": [
  {
   "cell_type": "code",
   "execution_count": 13,
   "id": "8bcb879e",
   "metadata": {},
   "outputs": [],
   "source": [
    "# nsclc_classification_optimized.ipynb\n",
    "\n",
    "import os\n",
    "import re\n",
    "import json\n",
    "import textwrap\n",
    "from concurrent.futures import ThreadPoolExecutor\n",
    "from llama_cpp import Llama\n",
    "import pandas as pd\n",
    "from tqdm import tqdm"
   ]
  },
  {
   "cell_type": "code",
   "execution_count": 2,
   "id": "8ac23aa3",
   "metadata": {},
   "outputs": [],
   "source": [
    "# -----------------------------\n",
    "# Settings\n",
    "# -----------------------------\n",
    "MODEL_PATH = \"../models/mistral-gguf/mistral-7b-instruct-v0.1.Q4_K_M.gguf\"\n",
    "DATA_PATH = \"../data/dummy_nsclc_reports.xlsx\"\n",
    "OUTPUT_PATH = \"../outputs/nsclc_llm_results_optimized.csv\"\n",
    "N_THREADS = 2\n",
    "N_CTX = 2048\n",
    "CHUNK_CHAR_LIMIT = 1800"
   ]
  },
  {
   "cell_type": "code",
   "execution_count": 3,
   "id": "db172ee7",
   "metadata": {},
   "outputs": [
    {
     "name": "stderr",
     "output_type": "stream",
     "text": [
      "llama_model_loader: loaded meta data with 20 key-value pairs and 291 tensors from ../models/mistral-gguf/mistral-7b-instruct-v0.1.Q4_K_M.gguf (version GGUF V2)\n",
      "llama_model_loader: Dumping metadata keys/values. Note: KV overrides do not apply in this output.\n",
      "llama_model_loader: - kv   0:                       general.architecture str              = llama\n",
      "llama_model_loader: - kv   1:                               general.name str              = mistralai_mistral-7b-instruct-v0.1\n",
      "llama_model_loader: - kv   2:                       llama.context_length u32              = 32768\n",
      "llama_model_loader: - kv   3:                     llama.embedding_length u32              = 4096\n",
      "llama_model_loader: - kv   4:                          llama.block_count u32              = 32\n",
      "llama_model_loader: - kv   5:                  llama.feed_forward_length u32              = 14336\n",
      "llama_model_loader: - kv   6:                 llama.rope.dimension_count u32              = 128\n",
      "llama_model_loader: - kv   7:                 llama.attention.head_count u32              = 32\n",
      "llama_model_loader: - kv   8:              llama.attention.head_count_kv u32              = 8\n",
      "llama_model_loader: - kv   9:     llama.attention.layer_norm_rms_epsilon f32              = 0.000010\n",
      "llama_model_loader: - kv  10:                       llama.rope.freq_base f32              = 10000.000000\n",
      "llama_model_loader: - kv  11:                          general.file_type u32              = 15\n"
     ]
    },
    {
     "name": "stderr",
     "output_type": "stream",
     "text": [
      "llama_model_loader: - kv  12:                       tokenizer.ggml.model str              = llama\n",
      "llama_model_loader: - kv  13:                      tokenizer.ggml.tokens arr[str,32000]   = [\"<unk>\", \"<s>\", \"</s>\", \"<0x00>\", \"<...\n",
      "llama_model_loader: - kv  14:                      tokenizer.ggml.scores arr[f32,32000]   = [0.000000, 0.000000, 0.000000, 0.0000...\n",
      "llama_model_loader: - kv  15:                  tokenizer.ggml.token_type arr[i32,32000]   = [2, 3, 3, 6, 6, 6, 6, 6, 6, 6, 6, 6, ...\n",
      "llama_model_loader: - kv  16:                tokenizer.ggml.bos_token_id u32              = 1\n",
      "llama_model_loader: - kv  17:                tokenizer.ggml.eos_token_id u32              = 2\n",
      "llama_model_loader: - kv  18:            tokenizer.ggml.unknown_token_id u32              = 0\n",
      "llama_model_loader: - kv  19:               general.quantization_version u32              = 2\n",
      "llama_model_loader: - type  f32:   65 tensors\n",
      "llama_model_loader: - type q4_K:  193 tensors\n",
      "llama_model_loader: - type q6_K:   33 tensors\n",
      "llm_load_vocab: special tokens definition check successful ( 259/32000 ).\n",
      "llm_load_print_meta: format           = GGUF V2\n",
      "llm_load_print_meta: arch             = llama\n",
      "llm_load_print_meta: vocab type       = SPM\n",
      "llm_load_print_meta: n_vocab          = 32000\n",
      "llm_load_print_meta: n_merges         = 0\n",
      "llm_load_print_meta: n_ctx_train      = 32768\n",
      "llm_load_print_meta: n_embd           = 4096\n",
      "llm_load_print_meta: n_head           = 32\n",
      "llm_load_print_meta: n_head_kv        = 8\n",
      "llm_load_print_meta: n_layer          = 32\n",
      "llm_load_print_meta: n_rot            = 128\n",
      "llm_load_print_meta: n_embd_head_k    = 128\n",
      "llm_load_print_meta: n_embd_head_v    = 128\n",
      "llm_load_print_meta: n_gqa            = 4\n",
      "llm_load_print_meta: n_embd_k_gqa     = 1024\n",
      "llm_load_print_meta: n_embd_v_gqa     = 1024\n",
      "llm_load_print_meta: f_norm_eps       = 0.0e+00\n",
      "llm_load_print_meta: f_norm_rms_eps   = 1.0e-05\n",
      "llm_load_print_meta: f_clamp_kqv      = 0.0e+00\n",
      "llm_load_print_meta: f_max_alibi_bias = 0.0e+00\n",
      "llm_load_print_meta: f_logit_scale    = 0.0e+00\n",
      "llm_load_print_meta: n_ff             = 14336\n",
      "llm_load_print_meta: n_expert         = 0\n",
      "llm_load_print_meta: n_expert_used    = 0\n",
      "llm_load_print_meta: causal attn      = 1\n",
      "llm_load_print_meta: pooling type     = 0\n",
      "llm_load_print_meta: rope type        = 0\n",
      "llm_load_print_meta: rope scaling     = linear\n",
      "llm_load_print_meta: freq_base_train  = 10000.0\n",
      "llm_load_print_meta: freq_scale_train = 1\n",
      "llm_load_print_meta: n_yarn_orig_ctx  = 32768\n",
      "llm_load_print_meta: rope_finetuned   = unknown\n",
      "llm_load_print_meta: ssm_d_conv       = 0\n",
      "llm_load_print_meta: ssm_d_inner      = 0\n",
      "llm_load_print_meta: ssm_d_state      = 0\n",
      "llm_load_print_meta: ssm_dt_rank      = 0\n",
      "llm_load_print_meta: model type       = 7B\n",
      "llm_load_print_meta: model ftype      = Q4_K - Medium\n",
      "llm_load_print_meta: model params     = 7.24 B\n",
      "llm_load_print_meta: model size       = 4.07 GiB (4.83 BPW) \n",
      "llm_load_print_meta: general.name     = mistralai_mistral-7b-instruct-v0.1\n",
      "llm_load_print_meta: BOS token        = 1 '<s>'\n",
      "llm_load_print_meta: EOS token        = 2 '</s>'\n",
      "llm_load_print_meta: UNK token        = 0 '<unk>'\n",
      "llm_load_print_meta: LF token         = 13 '<0x0A>'\n",
      "llm_load_tensors: ggml ctx size =    0.11 MiB\n"
     ]
    },
    {
     "name": "stdout",
     "output_type": "stream",
     "text": [
      "🔁 Loading model...\n"
     ]
    },
    {
     "name": "stderr",
     "output_type": "stream",
     "text": [
      "llm_load_tensors:        CPU buffer size =  4165.37 MiB\n",
      ".................................................................................................\n",
      "llama_new_context_with_model: n_ctx      = 2048\n",
      "llama_new_context_with_model: n_batch    = 512\n",
      "llama_new_context_with_model: n_ubatch   = 512\n",
      "llama_new_context_with_model: freq_base  = 10000.0\n",
      "llama_new_context_with_model: freq_scale = 1\n",
      "llama_kv_cache_init:        CPU KV buffer size =   256.00 MiB\n",
      "llama_new_context_with_model: KV self size  =  256.00 MiB, K (f16):  128.00 MiB, V (f16):  128.00 MiB\n",
      "llama_new_context_with_model:        CPU  output buffer size =    62.50 MiB\n",
      "llama_new_context_with_model:        CPU compute buffer size =   164.00 MiB\n",
      "llama_new_context_with_model: graph nodes  = 1060\n",
      "llama_new_context_with_model: graph splits = 1\n",
      "AVX = 1 | AVX_VNNI = 0 | AVX2 = 1 | AVX512 = 0 | AVX512_VBMI = 0 | AVX512_VNNI = 0 | FMA = 1 | NEON = 0 | ARM_FMA = 0 | F16C = 1 | FP16_VA = 0 | WASM_SIMD = 0 | BLAS = 0 | SSE3 = 1 | SSSE3 = 0 | VSX = 0 | MATMUL_INT8 = 0 | \n",
      "Model metadata: {'general.name': 'mistralai_mistral-7b-instruct-v0.1', 'general.architecture': 'llama', 'llama.context_length': '32768', 'llama.rope.dimension_count': '128', 'llama.embedding_length': '4096', 'llama.block_count': '32', 'llama.feed_forward_length': '14336', 'llama.attention.head_count': '32', 'tokenizer.ggml.eos_token_id': '2', 'general.file_type': '15', 'llama.attention.head_count_kv': '8', 'llama.attention.layer_norm_rms_epsilon': '0.000010', 'llama.rope.freq_base': '10000.000000', 'tokenizer.ggml.model': 'llama', 'general.quantization_version': '2', 'tokenizer.ggml.bos_token_id': '1', 'tokenizer.ggml.unknown_token_id': '0'}\n",
      "Using fallback chat format: None\n"
     ]
    }
   ],
   "source": [
    "# -----------------------------\n",
    "# Load model once\n",
    "# -----------------------------\n",
    "print(\"🔁 Loading model...\")\n",
    "llm = Llama(model_path=MODEL_PATH, n_ctx=N_CTX, n_threads=N_THREADS)"
   ]
  },
  {
   "cell_type": "code",
   "execution_count": 4,
   "id": "73a72777",
   "metadata": {},
   "outputs": [
    {
     "name": "stdout",
     "output_type": "stream",
     "text": [
      "📄 Loading data...\n",
      "✅ Loaded 3 patient reports.\n"
     ]
    }
   ],
   "source": [
    "# -----------------------------\n",
    "# Load input data\n",
    "# -----------------------------\n",
    "print(\"📄 Loading data...\")\n",
    "df = pd.read_excel(DATA_PATH)\n",
    "print(f\"✅ Loaded {len(df)} patient reports.\")"
   ]
  },
  {
   "cell_type": "code",
   "execution_count": null,
   "id": "f0735fbc",
   "metadata": {},
   "outputs": [],
   "source": [
    "# -----------------------------\n",
    "# Helper: Run classification\n",
    "# -----------------------------\n",
    "def classify_nsclc(pid, report):\n",
    "    chunks = textwrap.wrap(report, width=CHUNK_CHAR_LIMIT)\n",
    "    all_responses = []\n",
    "\n",
    "    for chunk in chunks:\n",
    "        prompt = f\"\"\"\n",
    "You are a clinical language model. A patient medical report is provided below. Based on the full clinical context, classify the likelihood that the patient has non-small cell lung cancer (NSCLC) as one of:\n",
    "\n",
    "- Definite\n",
    "- Likely\n",
    "- Unlikely\n",
    "- Uncertain\n",
    "\n",
    "Also provide a one sentence justification with no commas.\n",
    "\n",
    "Patient report:\n",
    "{chunk}\n",
    "\n",
    "Respond ONLY in this strict JSON format:\n",
    "{{\"PatientID\": \"{pid}\", \"NSCLC_Status\": \"\", \"Justification\": \"\"}}\n",
    "\"\"\"\n",
    "\n",
    "        try:\n",
    "            # Generate model response\n",
    "            response = llm(prompt, temperature=0, max_tokens=200, stop=[\"}\"])\n",
    "            raw_output = response[\"choices\"][0][\"text\"].strip()\n",
    "\n",
    "            # If the closing brace is missing, append it\n",
    "            if not raw_output.endswith(\"}\"):\n",
    "                raw_output += \"}\"\n",
    "\n",
    "            # Try to extract valid JSON block\n",
    "            matches = re.findall(r\"\\{.*?\\}\", raw_output, re.DOTALL)\n",
    "            for match in matches:\n",
    "                try:\n",
    "                    parsed = json.loads(match)\n",
    "                    status = parsed.get(\"NSCLC_Status\", \"ParseError\")\n",
    "                    reason = parsed.get(\"Justification\", f\"Missing justification | RAW: {match}\")\n",
    "                    break  # exit loop on first valid JSON\n",
    "                except json.JSONDecodeError:\n",
    "                    continue\n",
    "            else:\n",
    "                status = \"ParseError\"\n",
    "                reason = f\"Failed to parse any JSON block | RAW: {raw_output}\"\n",
    "\n",
    "        except Exception as e:\n",
    "            status = \"ParseError\"\n",
    "            reason = str(e)\n",
    "\n",
    "        all_responses.append((status, reason))\n",
    "\n",
    "    # Combine results from multiple chunks\n",
    "    if len(all_responses) == 1:\n",
    "        return pid, all_responses[0][0], all_responses[0][1]\n",
    "    else:\n",
    "        ranking = {\"Definite\": 3, \"Likely\": 2, \"Uncertain\": 1, \"Unlikely\": 0}\n",
    "        best = max(all_responses, key=lambda x: ranking.get(x[0], -1))\n",
    "        combined_justification = \" \".join([r[1] for r in all_responses])\n",
    "        return pid, best[0], combined_justification"
   ]
  },
  {
   "cell_type": "code",
   "execution_count": 34,
   "id": "1f80a7d3",
   "metadata": {},
   "outputs": [
    {
     "name": "stdout",
     "output_type": "stream",
     "text": [
      "⚙️ Classifying using threads...\n"
     ]
    },
    {
     "name": "stderr",
     "output_type": "stream",
     "text": [
      "  0%|          | 0/3 [00:00<?, ?it/s]Llama.generate: prefix-match hit\n",
      "\n",
      "llama_print_timings:        load time =   60885.66 ms\n",
      "llama_print_timings:      sample time =      29.04 ms /    53 runs   (    0.55 ms per token,  1825.13 tokens per second)\n",
      "llama_print_timings: prompt eval time =   20539.63 ms /    88 tokens (  233.40 ms per token,     4.28 tokens per second)\n",
      "llama_print_timings:        eval time =   32252.72 ms /    52 runs   (  620.24 ms per token,     1.61 tokens per second)\n",
      "llama_print_timings:       total time =   53908.35 ms /   140 tokens\n",
      " 33%|███▎      | 1/3 [00:54<01:48, 54.00s/it]Llama.generate: prefix-match hit\n"
     ]
    },
    {
     "name": "stdout",
     "output_type": "stream",
     "text": [
      "\n",
      "----- RAW OUTPUT for P001 -----\n",
      "{\"PatientID\": \"P001\", \"NSCLC_Status\": \"Definite\", \"Justification\": \"The biopsy confirms adenocarcinoma, which is a type of NSCLC.\"\n",
      "\n"
     ]
    },
    {
     "name": "stderr",
     "output_type": "stream",
     "text": [
      "\n",
      "llama_print_timings:        load time =   60885.66 ms\n",
      "llama_print_timings:      sample time =      46.64 ms /    86 runs   (    0.54 ms per token,  1843.99 tokens per second)\n",
      "llama_print_timings: prompt eval time =   21150.37 ms /    81 tokens (  261.12 ms per token,     3.83 tokens per second)\n",
      "llama_print_timings:        eval time =   49145.22 ms /    85 runs   (  578.18 ms per token,     1.73 tokens per second)\n",
      "llama_print_timings:       total time =   71561.85 ms /   166 tokens\n",
      " 67%|██████▋   | 2/3 [02:05<01:04, 64.39s/it]Llama.generate: prefix-match hit\n"
     ]
    },
    {
     "name": "stdout",
     "output_type": "stream",
     "text": [
      "\n",
      "----- RAW OUTPUT for P002 -----\n",
      "{\"PatientID\": \"P002\", \"NSCLC_Status\": \"Uncertain\", \"Justification\": \"The chest X-ray shows patchy infiltrates and symptoms of cough and mild weight loss, but no mass or nodule was detected on follow-up imaging. This suggests a possible diagnosis of NSCLC, but further testing and evaluation are needed to confirm.\"\n",
      "\n"
     ]
    },
    {
     "name": "stderr",
     "output_type": "stream",
     "text": [
      "\n",
      "llama_print_timings:        load time =   60885.66 ms\n",
      "llama_print_timings:      sample time =      39.44 ms /    62 runs   (    0.64 ms per token,  1572.01 tokens per second)\n",
      "llama_print_timings: prompt eval time =   21446.68 ms /    75 tokens (  285.96 ms per token,     3.50 tokens per second)\n",
      "llama_print_timings:        eval time =   52073.65 ms /    61 runs   (  853.67 ms per token,     1.17 tokens per second)\n",
      "llama_print_timings:       total time =   75779.44 ms /   136 tokens\n",
      "100%|██████████| 3/3 [03:21<00:00, 67.19s/it]"
     ]
    },
    {
     "name": "stdout",
     "output_type": "stream",
     "text": [
      "\n",
      "----- RAW OUTPUT for P003 -----\n",
      "{\"PatientID\": \"P003\", \"NSCLC_Status\": \"Likely\", \"Justification\": \"The patient has a follow-up PET-CT scan indicating metabolic activity in the left lower lobe, which is consistent with NSCLC.\"\n",
      "\n"
     ]
    },
    {
     "name": "stderr",
     "output_type": "stream",
     "text": [
      "\n"
     ]
    }
   ],
   "source": [
    "# -----------------------------\n",
    "# Process data in parallel\n",
    "# -----------------------------\n",
    "print(\"⚙️ Classifying using threads...\")\n",
    "results = []\n",
    "with ThreadPoolExecutor(max_workers=1) as executor:\n",
    "    futures = []\n",
    "    for _, row in df.iterrows():\n",
    "        futures.append(executor.submit(classify_nsclc, row[\"PatientID_Masked\"], row[\"Full_Text_Report\"]))\n",
    "    \n",
    "    for f in tqdm(futures):\n",
    "        results.append(f.result())"
   ]
  },
  {
   "cell_type": "code",
   "execution_count": 35,
   "id": "47f0d5dc",
   "metadata": {},
   "outputs": [
    {
     "name": "stdout",
     "output_type": "stream",
     "text": [
      "💾 Saving output...\n",
      "✅ Done! Saved results to ../outputs/nsclc_llm_results_optimized.csv\n"
     ]
    }
   ],
   "source": [
    "# -----------------------------\n",
    "# Save results\n",
    "# -----------------------------\n",
    "print(\"💾 Saving output...\")\n",
    "df_out = pd.DataFrame(results, columns=[\"PatientID_Masked\", \"NSCLC_Status\", \"Justification\"])\n",
    "df_out.to_csv(OUTPUT_PATH, index=False)\n",
    "print(f\"✅ Done! Saved results to {OUTPUT_PATH}\")"
   ]
  }
 ],
 "metadata": {
  "kernelspec": {
   "display_name": ".venv",
   "language": "python",
   "name": "python3"
  },
  "language_info": {
   "codemirror_mode": {
    "name": "ipython",
    "version": 3
   },
   "file_extension": ".py",
   "mimetype": "text/x-python",
   "name": "python",
   "nbconvert_exporter": "python",
   "pygments_lexer": "ipython3",
   "version": "3.12.5"
  }
 },
 "nbformat": 4,
 "nbformat_minor": 5
}
